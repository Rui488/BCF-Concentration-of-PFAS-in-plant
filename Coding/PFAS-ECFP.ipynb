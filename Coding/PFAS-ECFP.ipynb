{
 "cells": [
  {
   "cell_type": "code",
   "execution_count": 1,
   "id": "26feadfb-22b0-482e-a720-646ea9fd397b",
   "metadata": {},
   "outputs": [
    {
     "name": "stdout",
     "output_type": "stream",
     "text": [
      "/mnt/ffs24/home/lirui15/miniforge3/bin/python\n"
     ]
    }
   ],
   "source": [
    "import sys\n",
    "print(sys.executable)"
   ]
  },
  {
   "cell_type": "code",
   "execution_count": 1,
   "id": "10c8039e-37eb-4668-b0b8-ac10a32eb7ba",
   "metadata": {
    "scrolled": true
   },
   "outputs": [],
   "source": [
    "import pandas as pd\n",
    "from rdkit import Chem\n",
    "from rdkit.Chem import AllChem\n",
    "from rdkit.Chem import rdFingerprintGenerator\n",
    "from rdkit.Chem import Draw\n",
    "from rdkit.Chem.Draw import rdMolDraw2D\n",
    "import seaborn as sns\n",
    "import matplotlib.pyplot as plt"
   ]
  },
  {
   "cell_type": "markdown",
   "id": "fd5f9bd2-76e0-4394-a7bb-4c711ed65193",
   "metadata": {},
   "source": [
    "## Convert .xlsx file to.smi ##"
   ]
  },
  {
   "cell_type": "code",
   "execution_count": 3,
   "id": "bdb72257-82d0-4b57-956c-f937e03f95dd",
   "metadata": {},
   "outputs": [
    {
     "name": "stdout",
     "output_type": "stream",
     "text": [
      "SMILES strings have been written to SMILES.smi\n"
     ]
    }
   ],
   "source": [
    "excel_file_path = 'PFAS-SMILES.xlsx'\n",
    "\n",
    "# Define the path for the output .smi file\n",
    "smi_file_path = 'SMILES.smi'\n",
    "\n",
    "# Read the Excel file\n",
    "df = pd.read_excel(excel_file_path, engine='openpyxl')\n",
    "\n",
    "# Assume the SMILES strings are in a column named 'SMILES'\n",
    "# Extract the SMILES column\n",
    "smiles_strings = df['SMILES']\n",
    "\n",
    "# Write the SMILES strings to a .smi file\n",
    "with open(smi_file_path, 'w') as smi_file:\n",
    "    for smiles in smiles_strings:\n",
    "        smi_file.write(smiles + '\\n')\n",
    "\n",
    "print(f'SMILES strings have been written to {smi_file_path}')"
   ]
  },
  {
   "cell_type": "markdown",
   "id": "1e0ce822-d3bf-468d-97e5-39817a6c41e0",
   "metadata": {},
   "source": [
    "## Generation of extended connectivity fingerprints ##"
   ]
  },
  {
   "cell_type": "code",
   "execution_count": null,
   "id": "358b928b-b13e-440f-b6d1-e0e211ed1a08",
   "metadata": {},
   "outputs": [],
   "source": [
    "print('reading data')\n",
    "data = pd.read_csv('PFAS_SMILES.csv',encoding='cp1252')\n",
    "print('reading data finished')\n",
    "\n",
    "\n",
    "SMILES = data['SMILES'].to_numpy()\n",
    "\n",
    "#generate ECFP for all molecules\n",
    "print('statr generating ECFP')\n",
    "FP = []\n",
    "ONS_index = []\n",
    "for i,sm in enumerate(SMILES):\n",
    "    if 'N' in sm:#or 'O' in sm or 'S' in sm:\n",
    "        ONS_index.append(i)\n",
    "    mol = Chem.MolFromSmiles(sm)\n",
    "    fp = AllChem.GetMorganFingerprintAsBitVect(mol,6,nBits=1024)\n",
    "    FP.append(fp.ToBitString())\n",
    "data['ECFP'] = FP\n",
    "output_file_path = 'PFAS_SMILES_with_ECFP.csv'\n",
    "data.to_csv(output_file_path, index=False, encoding='cp1252')\n",
    "print('finish generating ECFP')"
   ]
  },
  {
   "cell_type": "markdown",
   "id": "939c5e1d-39a6-4bf6-ac75-a0c83d0e6dbd",
   "metadata": {},
   "source": [
    "## Exhibition of substructures of the chemicals ##"
   ]
  },
  {
   "cell_type": "code",
   "execution_count": 3,
   "id": "a30abad7-586a-4b00-a958-5bf7b6bf16ed",
   "metadata": {},
   "outputs": [
    {
     "name": "stdout",
     "output_type": "stream",
     "text": [
      "{29: ((3, 4),), 47: ((8, 3),), 59: ((9, 1),), 114: ((2, 0), (3, 0), (4, 0), (5, 0), (6, 0), (7, 0), (8, 0), (9, 0)), 207: ((2, 2),), 259: ((5, 5),), 346: ((7, 3),), 374: ((8, 1), (7, 1), (6, 1), (5, 1), (4, 1), (3, 1)), 389: ((27, 1),), 429: ((10, 1), (11, 1), (12, 1), (13, 1), (14, 1), (15, 1), (16, 1), (17, 1), (18, 1), (19, 1), (20, 1), (21, 1), (22, 1), (23, 1), (24, 1), (25, 1), (26, 1)), 447: ((4, 3),), 475: ((0, 2),), 544: ((7, 4),), 615: ((4, 5),), 617: ((3, 2),), 619: ((2, 3),), 650: ((1, 0),), 750: ((3, 3),), 790: ((6, 3), (5, 3)), 805: ((2, 1),), 807: ((0, 0), (27, 0)), 845: ((5, 4),), 861: ((6, 4),), 862: ((6, 5),), 886: ((9, 2),), 893: ((1, 1),), 904: ((10, 0), (11, 0), (12, 0), (13, 0), (14, 0), (15, 0), (16, 0), (17, 0), (18, 0), (19, 0), (20, 0), (21, 0), (22, 0), (23, 0), (24, 0), (25, 0), (26, 0)), 916: ((8, 2),), 924: ((4, 4),), 953: ((0, 1),), 972: ((7, 2), (6, 2), (5, 2), (4, 2))}\n"
     ]
    },
    {
     "name": "stderr",
     "output_type": "stream",
     "text": [
      "[17:11:06] DEPRECATION WARNING: please use MorganGenerator\n"
     ]
    }
   ],
   "source": [
    "smiles = 'C(=O)(C(C(C(C(C(C(C(C(F)(F)F)(F)F)(F)F)(F)F)(F)F)(F)F)(F)F)(F)F)O'\n",
    "\n",
    "structure_id = 845\n",
    "\n",
    "mol = Chem.MolFromSmiles(smiles)\n",
    "bi = {}\n",
    "fp = AllChem.GetMorganFingerprintAsBitVect(mol, radius=6, nBits=1024, bitInfo=bi)\n",
    "\n",
    "print(bi)"
   ]
  },
  {
   "cell_type": "markdown",
   "id": "86a7d571-d890-44ab-944e-7f0c4de9e7d8",
   "metadata": {},
   "source": [
    "## Visualisation of the substructure of a specific ECFP bit, e.g., ECFP 846 ##"
   ]
  },
  {
   "cell_type": "code",
   "execution_count": 2,
   "id": "1764b535-ca6f-4eb1-a792-47d3cbd46a90",
   "metadata": {},
   "outputs": [
    {
     "name": "stdout",
     "output_type": "stream",
     "text": [
      "Bit 845 corresponds to the following atom environments:\n",
      "((5, 4),)\n",
      "Image saved to: ecfp_bit_845.png\n"
     ]
    },
    {
     "name": "stderr",
     "output_type": "stream",
     "text": [
      "[17:10:27] DEPRECATION WARNING: please use MorganGenerator\n"
     ]
    }
   ],
   "source": [
    "smiles = 'C(=O)(C(C(C(C(C(C(C(C(F)(F)F)(F)F)(F)F)(F)F)(F)F)(F)F)(F)F)(F)F)O'\n",
    "target_bit = 845  # Bit to visualize (e.g., ECFP-845)\n",
    "\n",
    "# Generate molecule from SMILES\n",
    "mol = Chem.MolFromSmiles(smiles)\n",
    "if mol is None:\n",
    "    raise ValueError(\"SMILES parsing failed. Please check the input format.\")\n",
    "\n",
    "# Calculate Morgan fingerprint and extract bit info\n",
    "bit_info = {}\n",
    "fp = AllChem.GetMorganFingerprintAsBitVect(\n",
    "    mol, \n",
    "    radius=6, \n",
    "    nBits=1024, \n",
    "    bitInfo=bit_info\n",
    ")\n",
    "\n",
    "# Check if the target bit exists\n",
    "if target_bit in bit_info:\n",
    "    print(f\"Bit {target_bit} corresponds to the following atom environments:\")\n",
    "    print(bit_info[target_bit])  # Output: [(center_atom_idx, radius)]\n",
    "    \n",
    "    # Get all atoms involved in the feature\n",
    "    highlight_atoms = set()\n",
    "    for (center_atom, radius) in bit_info[target_bit]:\n",
    "        # Find all atoms within the specified radius\n",
    "        env_atoms = Chem.FindAtomEnvironmentOfRadiusN(mol, radius, center_atom)\n",
    "        highlight_atoms.update(env_atoms)\n",
    "    \n",
    "    # Draw and save the highlighted structure\n",
    "    drawer = rdMolDraw2D.MolDraw2DCairo(500, 500)\n",
    "    drawer.DrawMolecule(mol, highlightAtoms=list(highlight_atoms))\n",
    "    drawer.FinishDrawing()\n",
    "    \n",
    "    # Save image to file\n",
    "    output_file = f\"ecfp_bit_{target_bit}.png\"\n",
    "    with open(output_file, \"wb\") as f:\n",
    "        f.write(drawer.GetDrawingText())\n",
    "    print(f\"Image saved to: {output_file}\")\n",
    "    "
   ]
  },
  {
   "cell_type": "markdown",
   "id": "a7e15c37-4f9c-42e6-985f-e13b0e2046b9",
   "metadata": {},
   "source": [
    "## Separated the bits into multiple columns ##"
   ]
  },
  {
   "cell_type": "code",
   "execution_count": 6,
   "id": "60c9bf6c-1675-47bb-8760-543fa7b8601d",
   "metadata": {},
   "outputs": [],
   "source": [
    "ECFP_file_path = 'PFAS_SMILES_with_ECFP.csv'\n",
    "df = pd.read_csv(ECFP_file_path)\n",
    "ecfp = 'ECFP'\n",
    "\n",
    "def split_ecfp(row):\n",
    "    ecfp_str = row[ecfp]\n",
    "    return pd.Series(list(ecfp_str))\n",
    "\n",
    "split_columns = df.apply(split_ecfp, axis=1)"
   ]
  },
  {
   "cell_type": "code",
   "execution_count": 7,
   "id": "0b6b3518-e8e2-4547-b1d2-133d74e036df",
   "metadata": {},
   "outputs": [],
   "source": [
    "split_columns.columns = [f'ECFP_{i+1}' for i in range(split_columns.shape[1])]\n",
    "df = pd.concat([df, split_columns], axis=1)"
   ]
  },
  {
   "cell_type": "code",
   "execution_count": 8,
   "id": "e1af9c7c-c3b9-4067-87b8-28053369f0c9",
   "metadata": {},
   "outputs": [
    {
     "name": "stdout",
     "output_type": "stream",
     "text": [
      "Processed data saved to PFAS_SMILES_with_ECFP_split.csv\n"
     ]
    }
   ],
   "source": [
    "output_file_path = 'PFAS_SMILES_with_ECFP_split.csv' \n",
    "df.to_csv(output_file_path, index=False)\n",
    "\n",
    "print(f\"Processed data saved to {output_file_path}\")"
   ]
  },
  {
   "cell_type": "markdown",
   "id": "867c7a80-cf01-4036-b612-abcf59b40d37",
   "metadata": {},
   "source": [
    "## Remove 0-variance bits ##"
   ]
  },
  {
   "cell_type": "code",
   "execution_count": 12,
   "id": "ce4dad70-7acb-4ab6-a8cf-955aa1d22cf0",
   "metadata": {},
   "outputs": [],
   "source": [
    "file_path = 'PFAS_SMILES_with_ECFP_split.csv' \n",
    "df = pd.read_csv(file_path)\n",
    "variance = df.iloc[:, 4:].var()\n",
    "\n",
    "columns_to_drop = variance[variance == 0].index\n",
    "df_cleaned = df.drop(columns=columns_to_drop, axis=1)\n",
    "\n",
    "output_file_path = 'PFAS_ECFP_cleaned1.csv' \n",
    "df_cleaned.to_csv(output_file_path, index=False)\n"
   ]
  },
  {
   "cell_type": "markdown",
   "id": "e13f8f97-ff3e-4ed8-b999-fbf56fe32a07",
   "metadata": {},
   "source": [
    "## Eliminate highly correlated bits ##"
   ]
  },
  {
   "cell_type": "code",
   "execution_count": 9,
   "id": "579e3d43-cab6-4efe-91c6-f18be1e019c3",
   "metadata": {},
   "outputs": [],
   "source": [
    "file_path = 'PFAS_ECFP_cleaned1.csv' \n",
    "df = pd.read_csv(file_path)\n",
    "\n",
    "df_subset = df.iloc[:, 4:]\n",
    "spearman_corr_matrix = df_subset.corr(method='spearman')\n",
    "\n",
    "output_corr_matrix_path = 'spearman_corr_matrix-ECFP.csv'\n",
    "spearman_corr_matrix.to_csv(output_corr_matrix_path)"
   ]
  },
  {
   "cell_type": "code",
   "execution_count": null,
   "id": "17b3beb8-6fff-4a3a-92f7-cf0e717a85f8",
   "metadata": {},
   "outputs": [],
   "source": [
    "sns.heatmap(spearman_corr_matrix, annot=True, cmap='coolwarm', fmt='.2f', \n",
    "            vmin=-1, vmax=1, center=0, cbar=True, square=True, linewidths=0.5, linecolor='black')\n",
    "plt.title('Spearman Correlation Heatmap')\n",
    "plt.show()"
   ]
  }
 ],
 "metadata": {
  "kernelspec": {
   "display_name": "Python 3 (ipykernel)",
   "language": "python",
   "name": "python3"
  },
  "language_info": {
   "codemirror_mode": {
    "name": "ipython",
    "version": 3
   },
   "file_extension": ".py",
   "mimetype": "text/x-python",
   "name": "python",
   "nbconvert_exporter": "python",
   "pygments_lexer": "ipython3",
   "version": "3.12.8"
  }
 },
 "nbformat": 4,
 "nbformat_minor": 5
}
